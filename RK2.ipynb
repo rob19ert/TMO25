{
  "nbformat": 4,
  "nbformat_minor": 0,
  "metadata": {
    "colab": {
      "provenance": []
    },
    "kernelspec": {
      "name": "python3",
      "display_name": "Python 3"
    },
    "language_info": {
      "name": "python"
    }
  },
  "cells": [
    {
      "cell_type": "markdown",
      "source": [
        "Задание. Для заданного набора данных (по Вашему варианту) постройте модели классификации или регрессии (в зависимости от конкретной задачи, рассматриваемой в наборе данных). Для построения моделей используйте методы 1 и 2 (по варианту для Вашей группы). Оцените качество моделей на основе подходящих метрик качества (не менее двух метрик). Какие метрики качества Вы использовали и почему? Какие выводы Вы можете сделать о качестве построенных моделей? Для построения моделей необходимо выполнить требуемую предобработку данных: заполнение пропусков, кодирование категориальных признаков, и т.д."
      ],
      "metadata": {
        "id": "uqW3gPwQKPY0"
      }
    },
    {
      "cell_type": "markdown",
      "source": [
        "Условия по варианту (ИУ5-62Б Вар.17)\n",
        "ИУ5-62Б, ИУ5Ц-82Б Метод опорных векторов Случайный лес\n",
        "\n",
        "17. https://www.kaggle.com/mathan/fifa-2018-match-statistics"
      ],
      "metadata": {
        "id": "e81rxGs_KRAl"
      }
    },
    {
      "cell_type": "markdown",
      "source": [
        "**Загрузка датасета**"
      ],
      "metadata": {
        "id": "k5_XDQcOKm9V"
      }
    },
    {
      "cell_type": "code",
      "source": [
        "import pandas as pd\n",
        "import numpy as np\n",
        "from sklearn.model_selection import train_test_split\n",
        "from sklearn.preprocessing import StandardScaler, LabelEncoder\n",
        "from sklearn.svm import SVC\n",
        "from sklearn.ensemble import RandomForestClassifier\n",
        "from sklearn.metrics import accuracy_score, precision_score, recall_score, f1_score\n",
        "\n",
        "# Загрузка данных\n",
        "df = pd.read_csv('FIFA 2018 Statistics.csv')\n",
        "print(\"Первые 5 строк данных:\\n\", df.head())\n",
        "print(\"\\nИнформация о данных:\\n\", df.info())\n",
        "print(\"\\nПропуски в данных:\\n\", df.isnull().sum())"
      ],
      "metadata": {
        "colab": {
          "base_uri": "https://localhost:8080/"
        },
        "id": "SY6IbTHWKvuN",
        "outputId": "8f6c4c36-d01d-4efc-dd7e-0b1c2ab69d86"
      },
      "execution_count": 24,
      "outputs": [
        {
          "output_type": "stream",
          "name": "stdout",
          "text": [
            "Первые 5 строк данных:\n",
            "          Date          Team      Opponent  Goal Scored  Ball Possession %  \\\n",
            "0  14-06-2018        Russia  Saudi Arabia            5                 40   \n",
            "1  14-06-2018  Saudi Arabia        Russia            0                 60   \n",
            "2  15-06-2018         Egypt       Uruguay            0                 43   \n",
            "3  15-06-2018       Uruguay         Egypt            1                 57   \n",
            "4  15-06-2018       Morocco          Iran            0                 64   \n",
            "\n",
            "   Attempts  On-Target  Off-Target  Blocked  Corners  ...  Yellow Card  \\\n",
            "0        13          7           3        3        6  ...            0   \n",
            "1         6          0           3        3        2  ...            0   \n",
            "2         8          3           3        2        0  ...            2   \n",
            "3        14          4           6        4        5  ...            0   \n",
            "4        13          3           6        4        5  ...            1   \n",
            "\n",
            "   Yellow & Red  Red  Man of the Match  1st Goal        Round  PSO  \\\n",
            "0             0    0               Yes      12.0  Group Stage   No   \n",
            "1             0    0                No       NaN  Group Stage   No   \n",
            "2             0    0                No       NaN  Group Stage   No   \n",
            "3             0    0               Yes      89.0  Group Stage   No   \n",
            "4             0    0                No       NaN  Group Stage   No   \n",
            "\n",
            "   Goals in PSO  Own goals  Own goal Time  \n",
            "0             0        NaN            NaN  \n",
            "1             0        NaN            NaN  \n",
            "2             0        NaN            NaN  \n",
            "3             0        NaN            NaN  \n",
            "4             0        1.0           90.0  \n",
            "\n",
            "[5 rows x 27 columns]\n",
            "<class 'pandas.core.frame.DataFrame'>\n",
            "RangeIndex: 128 entries, 0 to 127\n",
            "Data columns (total 27 columns):\n",
            " #   Column                  Non-Null Count  Dtype  \n",
            "---  ------                  --------------  -----  \n",
            " 0   Date                    128 non-null    object \n",
            " 1   Team                    128 non-null    object \n",
            " 2   Opponent                128 non-null    object \n",
            " 3   Goal Scored             128 non-null    int64  \n",
            " 4   Ball Possession %       128 non-null    int64  \n",
            " 5   Attempts                128 non-null    int64  \n",
            " 6   On-Target               128 non-null    int64  \n",
            " 7   Off-Target              128 non-null    int64  \n",
            " 8   Blocked                 128 non-null    int64  \n",
            " 9   Corners                 128 non-null    int64  \n",
            " 10  Offsides                128 non-null    int64  \n",
            " 11  Free Kicks              128 non-null    int64  \n",
            " 12  Saves                   128 non-null    int64  \n",
            " 13  Pass Accuracy %         128 non-null    int64  \n",
            " 14  Passes                  128 non-null    int64  \n",
            " 15  Distance Covered (Kms)  128 non-null    int64  \n",
            " 16  Fouls Committed         128 non-null    int64  \n",
            " 17  Yellow Card             128 non-null    int64  \n",
            " 18  Yellow & Red            128 non-null    int64  \n",
            " 19  Red                     128 non-null    int64  \n",
            " 20  Man of the Match        128 non-null    object \n",
            " 21  1st Goal                94 non-null     float64\n",
            " 22  Round                   128 non-null    object \n",
            " 23  PSO                     128 non-null    object \n",
            " 24  Goals in PSO            128 non-null    int64  \n",
            " 25  Own goals               12 non-null     float64\n",
            " 26  Own goal Time           12 non-null     float64\n",
            "dtypes: float64(3), int64(18), object(6)\n",
            "memory usage: 27.1+ KB\n",
            "\n",
            "Информация о данных:\n",
            " None\n",
            "\n",
            "Пропуски в данных:\n",
            " Date                        0\n",
            "Team                        0\n",
            "Opponent                    0\n",
            "Goal Scored                 0\n",
            "Ball Possession %           0\n",
            "Attempts                    0\n",
            "On-Target                   0\n",
            "Off-Target                  0\n",
            "Blocked                     0\n",
            "Corners                     0\n",
            "Offsides                    0\n",
            "Free Kicks                  0\n",
            "Saves                       0\n",
            "Pass Accuracy %             0\n",
            "Passes                      0\n",
            "Distance Covered (Kms)      0\n",
            "Fouls Committed             0\n",
            "Yellow Card                 0\n",
            "Yellow & Red                0\n",
            "Red                         0\n",
            "Man of the Match            0\n",
            "1st Goal                   34\n",
            "Round                       0\n",
            "PSO                         0\n",
            "Goals in PSO                0\n",
            "Own goals                 116\n",
            "Own goal Time             116\n",
            "dtype: int64\n"
          ]
        }
      ]
    },
    {
      "cell_type": "markdown",
      "source": [
        "**Обработка пропусков**"
      ],
      "metadata": {
        "id": "OQvSSZvTM5mL"
      }
    },
    {
      "cell_type": "code",
      "source": [
        "# Заполнение пропусков\n",
        "df.fillna({\n",
        "    'Own goals': 0,\n",
        "    'Own goal Time': 0,\n",
        "    '1st Goal': df['1st Goal'].median(),\n",
        "    'Corners': df['Corners'].median()\n",
        "}, inplace=True)\n"
      ],
      "metadata": {
        "id": "Nl7E_JSmLldh"
      },
      "execution_count": 25,
      "outputs": []
    },
    {
      "cell_type": "markdown",
      "source": [
        "**Удаление или преобразование нечисловых столбцов**"
      ],
      "metadata": {
        "id": "gCui-qAdNDXm"
      }
    },
    {
      "cell_type": "code",
      "source": [
        "# Удаляем столбцы, которые не могут быть преобразованы в числа (например, даты)\n",
        "df = df.drop(['Date'], axis=1)  # Удаляем столбец с датой\n",
        "\n",
        "# Label Encoding для категориальных признаков (если они остались)\n",
        "categorical_cols = df.select_dtypes(include=['object']).columns.tolist()\n",
        "for col in categorical_cols:\n",
        "    if col != 'Man of the Match':  # Целевая переменная\n",
        "        df[col] = LabelEncoder().fit_transform(df[col])\n",
        "\n",
        "# One-Hot Encoding для целевой переменной (если нужно)\n",
        "df['Man of the Match'] = LabelEncoder().fit_transform(df['Man of the Match'])"
      ],
      "metadata": {
        "id": "Wco33QXOLoKA"
      },
      "execution_count": 26,
      "outputs": []
    },
    {
      "cell_type": "markdown",
      "source": [
        "**Масштабирование числовых признаков**"
      ],
      "metadata": {
        "id": "E_3v8UqYNFrC"
      }
    },
    {
      "cell_type": "code",
      "source": [
        "numerical_cols = df.select_dtypes(include=['int64', 'float64']).columns.tolist()\n",
        "numerical_cols.remove('Man of the Match')  # Исключаем целевую переменную\n",
        "\n",
        "scaler = StandardScaler()\n",
        "df[numerical_cols] = scaler.fit_transform(df[numerical_cols])"
      ],
      "metadata": {
        "id": "IB7hFcKBLseD"
      },
      "execution_count": 27,
      "outputs": []
    },
    {
      "cell_type": "markdown",
      "source": [
        "**Разделение данных на обучающую и тестовую выборки**"
      ],
      "metadata": {
        "id": "7b_yNfWWNH-D"
      }
    },
    {
      "cell_type": "code",
      "source": [
        "X = df.drop('Man of the Match', axis=1)\n",
        "y = df['Man of the Match']\n",
        "X_train, X_test, y_train, y_test = train_test_split(X, y, test_size=0.3, random_state=42)"
      ],
      "metadata": {
        "id": "Y8wtcd21LuN-"
      },
      "execution_count": 28,
      "outputs": []
    },
    {
      "cell_type": "markdown",
      "source": [
        "**Обучение моделей**"
      ],
      "metadata": {
        "id": "1FfkiASRNKWk"
      }
    },
    {
      "cell_type": "code",
      "source": [
        "# SVM\n",
        "svm_model = SVC(kernel='rbf', C=1.0, gamma='scale', random_state=42)\n",
        "svm_model.fit(X_train, y_train)\n",
        "y_pred_svm = svm_model.predict(X_test)\n",
        "\n",
        "# Random Forest\n",
        "rf_model = RandomForestClassifier(n_estimators=100, max_depth=10, random_state=42)\n",
        "rf_model.fit(X_train, y_train)\n",
        "y_pred_rf = rf_model.predict(X_test)"
      ],
      "metadata": {
        "id": "lOIAvf9TMh3g"
      },
      "execution_count": 29,
      "outputs": []
    },
    {
      "cell_type": "markdown",
      "source": [
        "**Оценка качества моделей**"
      ],
      "metadata": {
        "id": "F9b_UTbINMnH"
      }
    },
    {
      "cell_type": "code",
      "source": [
        "# Метрики для SVM\n",
        "print(\"\\nSVM Metrics:\")\n",
        "print(\"Accuracy:\", accuracy_score(y_test, y_pred_svm))\n",
        "print(\"Precision:\", precision_score(y_test, y_pred_svm))\n",
        "print(\"Recall:\", recall_score(y_test, y_pred_svm))\n",
        "print(\"F1-Score:\", f1_score(y_test, y_pred_svm))\n",
        "\n",
        "# Метрики для Random Forest\n",
        "print(\"\\nRandom Forest Metrics:\")\n",
        "print(\"Accuracy:\", accuracy_score(y_test, y_pred_rf))\n",
        "print(\"Precision:\", precision_score(y_test, y_pred_rf))\n",
        "print(\"Recall:\", recall_score(y_test, y_pred_rf))\n",
        "print(\"F1-Score:\", f1_score(y_test, y_pred_rf))"
      ],
      "metadata": {
        "colab": {
          "base_uri": "https://localhost:8080/"
        },
        "id": "A6T2FQ6cMjC3",
        "outputId": "a5defd07-570a-4a33-80dc-6cf69d46891f"
      },
      "execution_count": 30,
      "outputs": [
        {
          "output_type": "stream",
          "name": "stdout",
          "text": [
            "\n",
            "SVM Metrics:\n",
            "Accuracy: 0.5128205128205128\n",
            "Precision: 0.6666666666666666\n",
            "Recall: 0.4166666666666667\n",
            "F1-Score: 0.5128205128205128\n",
            "\n",
            "Random Forest Metrics:\n",
            "Accuracy: 0.6666666666666666\n",
            "Precision: 0.9230769230769231\n",
            "Recall: 0.5\n",
            "F1-Score: 0.6486486486486487\n"
          ]
        }
      ]
    }
  ]
}