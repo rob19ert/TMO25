{
  "nbformat": 4,
  "nbformat_minor": 0,
  "metadata": {
    "colab": {
      "provenance": []
    },
    "kernelspec": {
      "name": "python3",
      "display_name": "Python 3"
    },
    "language_info": {
      "name": "python"
    }
  },
  "cells": [
    {
      "cell_type": "markdown",
      "source": [
        "Задача №3.\n",
        "Для заданного набора данных произведите масштабирование данных (для одного признака) и преобразование категориальных признаков в количественные двумя способами (label encoding, one hot encoding) для одного признака. Какие методы Вы использовали для решения задачи и почему?"
      ],
      "metadata": {
        "id": "EzXkjXqG2qvM"
      }
    },
    {
      "cell_type": "code",
      "source": [
        "from sklearn.datasets import load_iris\n",
        "import pandas as pd\n",
        "from sklearn.preprocessing import StandardScaler, LabelEncoder, OneHotEncoder\n",
        "import matplotlib.pyplot as plt\n",
        "import seaborn as sns"
      ],
      "metadata": {
        "id": "TA4rOfFn2sRg"
      },
      "execution_count": 1,
      "outputs": []
    },
    {
      "cell_type": "markdown",
      "source": [
        "**Загрузка датасета 1 (https://scikit-learn.org/stable/modules/generated/sklearn.datasets.load_iris.html#sklearn.datasets.load_iris)**"
      ],
      "metadata": {
        "id": "TslVV7qM3IuO"
      }
    },
    {
      "cell_type": "code",
      "source": [
        "iris = load_iris()\n",
        "df = pd.DataFrame(data=iris.data, columns=iris.feature_names)\n",
        "df['species'] = iris.target_names[iris.target]\n",
        "\n",
        "print(\"Первые 5 строк датасета:\")\n",
        "print(df.head())"
      ],
      "metadata": {
        "colab": {
          "base_uri": "https://localhost:8080/"
        },
        "id": "k2Dp-ZcN27wO",
        "outputId": "208b3d31-5b7c-497e-d9da-8590361caaa4"
      },
      "execution_count": 2,
      "outputs": [
        {
          "output_type": "stream",
          "name": "stdout",
          "text": [
            "Первые 5 строк датасета:\n",
            "   sepal length (cm)  sepal width (cm)  petal length (cm)  petal width (cm)  \\\n",
            "0                5.1               3.5                1.4               0.2   \n",
            "1                4.9               3.0                1.4               0.2   \n",
            "2                4.7               3.2                1.3               0.2   \n",
            "3                4.6               3.1                1.5               0.2   \n",
            "4                5.0               3.6                1.4               0.2   \n",
            "\n",
            "  species  \n",
            "0  setosa  \n",
            "1  setosa  \n",
            "2  setosa  \n",
            "3  setosa  \n",
            "4  setosa  \n"
          ]
        }
      ]
    },
    {
      "cell_type": "markdown",
      "source": [
        "**Масштабирование sepal length (cm)**"
      ],
      "metadata": {
        "id": "xZxSgpnK3H-Y"
      }
    },
    {
      "cell_type": "code",
      "source": [
        "scaler = StandardScaler()\n",
        "df['sepal length_scaled'] = scaler.fit_transform(df[['sepal length (cm)']])\n",
        "\n",
        "print(\"\\nДо и после масштабирования 'sepal length (cm)':\")\n",
        "print(df[['sepal length (cm)', 'sepal length_scaled']].head())"
      ],
      "metadata": {
        "colab": {
          "base_uri": "https://localhost:8080/"
        },
        "id": "SitWnkbZ3IQr",
        "outputId": "887dbee4-2f49-4520-b0dd-43229b53bd31"
      },
      "execution_count": 3,
      "outputs": [
        {
          "output_type": "stream",
          "name": "stdout",
          "text": [
            "\n",
            "До и после масштабирования 'sepal length (cm)':\n",
            "   sepal length (cm)  sepal length_scaled\n",
            "0                5.1            -0.900681\n",
            "1                4.9            -1.143017\n",
            "2                4.7            -1.385353\n",
            "3                4.6            -1.506521\n",
            "4                5.0            -1.021849\n"
          ]
        }
      ]
    },
    {
      "cell_type": "markdown",
      "source": [
        "**Преобразование категориальных признаков в количественные способом one hot encoding для species**"
      ],
      "metadata": {
        "id": "qzmhPQ_b3P_f"
      }
    },
    {
      "cell_type": "code",
      "source": [
        "encoder = LabelEncoder()\n",
        "df['species_label'] = encoder.fit_transform(df['species'])\n",
        "\n",
        "print(\"\\nLabel Encoding для 'species':\")\n",
        "print(df[['species', 'species_label']].head())\n",
        "\n",
        "print(\"\\nВсе уникальные виды и их метки:\")\n",
        "unique_species = df[['species', 'species_label']].drop_duplicates()\n",
        "print(unique_species.sort_values('species_label'))"
      ],
      "metadata": {
        "colab": {
          "base_uri": "https://localhost:8080/"
        },
        "id": "Lkoog9El3MWh",
        "outputId": "07d0f134-3578-4a68-f1c3-93a82cfa7beb"
      },
      "execution_count": 4,
      "outputs": [
        {
          "output_type": "stream",
          "name": "stdout",
          "text": [
            "\n",
            "Label Encoding для 'species':\n",
            "  species  species_label\n",
            "0  setosa              0\n",
            "1  setosa              0\n",
            "2  setosa              0\n",
            "3  setosa              0\n",
            "4  setosa              0\n",
            "\n",
            "Все уникальные виды и их метки:\n",
            "        species  species_label\n",
            "0        setosa              0\n",
            "50   versicolor              1\n",
            "100   virginica              2\n"
          ]
        }
      ]
    },
    {
      "cell_type": "code",
      "source": [
        "encoder = OneHotEncoder(sparse_output=False, drop='first')\n",
        "encoded_species = encoder.fit_transform(df[['species']])\n",
        "\n",
        "encoded_df = pd.DataFrame(encoded_species,\n",
        "                          columns=encoder.get_feature_names_out(['species']))\n",
        "\n",
        "df = pd.concat([df, encoded_df], axis=1)\n",
        "\n",
        "print(\"\\nOne-Hot Encoding для 'species':\")\n",
        "print(df[['species', 'species_versicolor', 'species_virginica']].head())\n",
        "\n",
        "\n",
        "print(\"\\nВсе уникальные виды и их метки:\")\n",
        "unique_species_ = df[['species', 'species_versicolor', 'species_virginica']].drop_duplicates()\n",
        "print(unique_species_)"
      ],
      "metadata": {
        "colab": {
          "base_uri": "https://localhost:8080/"
        },
        "id": "21wLeRfm3QOG",
        "outputId": "cd61b585-93b1-4ab3-ef26-643998c5f976"
      },
      "execution_count": 5,
      "outputs": [
        {
          "output_type": "stream",
          "name": "stdout",
          "text": [
            "\n",
            "One-Hot Encoding для 'species':\n",
            "  species  species_versicolor  species_virginica\n",
            "0  setosa                 0.0                0.0\n",
            "1  setosa                 0.0                0.0\n",
            "2  setosa                 0.0                0.0\n",
            "3  setosa                 0.0                0.0\n",
            "4  setosa                 0.0                0.0\n",
            "\n",
            "Все уникальные виды и их метки:\n",
            "        species  species_versicolor  species_virginica\n",
            "0        setosa                 0.0                0.0\n",
            "50   versicolor                 1.0                0.0\n",
            "100   virginica                 0.0                1.0\n"
          ]
        }
      ]
    },
    {
      "cell_type": "code",
      "source": [
        "print(\"\\nИтоговый датасет:\")\n",
        "print(df.head())\n",
        "\n",
        "print(\"\\nВсе уникальные виды и их метки:\")\n",
        "unique_species_ = df[['species', 'species_label', 'species_versicolor', 'species_virginica']].drop_duplicates()\n",
        "print(unique_species_)"
      ],
      "metadata": {
        "colab": {
          "base_uri": "https://localhost:8080/"
        },
        "id": "sKb2w9Iz3TbB",
        "outputId": "9114d648-1f10-43b7-cd4d-e958dafef550"
      },
      "execution_count": 6,
      "outputs": [
        {
          "output_type": "stream",
          "name": "stdout",
          "text": [
            "\n",
            "Итоговый датасет:\n",
            "   sepal length (cm)  sepal width (cm)  petal length (cm)  petal width (cm)  \\\n",
            "0                5.1               3.5                1.4               0.2   \n",
            "1                4.9               3.0                1.4               0.2   \n",
            "2                4.7               3.2                1.3               0.2   \n",
            "3                4.6               3.1                1.5               0.2   \n",
            "4                5.0               3.6                1.4               0.2   \n",
            "\n",
            "  species  sepal length_scaled  species_label  species_versicolor  \\\n",
            "0  setosa            -0.900681              0                 0.0   \n",
            "1  setosa            -1.143017              0                 0.0   \n",
            "2  setosa            -1.385353              0                 0.0   \n",
            "3  setosa            -1.506521              0                 0.0   \n",
            "4  setosa            -1.021849              0                 0.0   \n",
            "\n",
            "   species_virginica  \n",
            "0                0.0  \n",
            "1                0.0  \n",
            "2                0.0  \n",
            "3                0.0  \n",
            "4                0.0  \n",
            "\n",
            "Все уникальные виды и их метки:\n",
            "        species  species_label  species_versicolor  species_virginica\n",
            "0        setosa              0                 0.0                0.0\n",
            "50   versicolor              1                 1.0                0.0\n",
            "100   virginica              2                 0.0                1.0\n"
          ]
        }
      ]
    },
    {
      "cell_type": "markdown",
      "source": [
        "**Для произвольной колонки данных построить график \"Ящик с усами (boxplot)\"**"
      ],
      "metadata": {
        "id": "5VN3YqRl3WIU"
      }
    },
    {
      "cell_type": "code",
      "source": [
        "column_name = 'sepal length (cm)'\n",
        "\n",
        "plt.figure(figsize=(8, 6))\n",
        "plt.boxplot(df[column_name])\n",
        "plt.title(f'Boxplot для {column_name}')\n",
        "plt.ylabel('Значения')\n",
        "plt.show()\n",
        "\n",
        "plt.figure(figsize=(8, 6))\n",
        "sns.boxplot(data=df[column_name])\n",
        "plt.title(f'Boxplot для {column_name}')\n",
        "plt.xlabel(column_name)\n",
        "plt.show()"
      ],
      "metadata": {
        "colab": {
          "base_uri": "https://localhost:8080/",
          "height": 1000
        },
        "id": "VSOp1PGx3WTG",
        "outputId": "f2a4f6e1-66ef-4536-8de3-795c4f125062"
      },
      "execution_count": 7,
      "outputs": [
        {
          "output_type": "display_data",
          "data": {
            "text/plain": [
              "<Figure size 800x600 with 1 Axes>"
            ],
            "image/png": "[encoded data removed]"
          },
          "metadata": {}
        },
        {
          "output_type": "display_data",
          "data": {
            "text/plain": [
              "<Figure size 800x600 with 1 Axes>"
            ],
            "image/png": "[encoded data removed]"
          },
          "metadata": {}
        }
      ]
    }
  ]
}